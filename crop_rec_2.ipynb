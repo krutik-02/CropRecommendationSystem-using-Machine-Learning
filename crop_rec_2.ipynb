{
 "cells": [
  {
   "cell_type": "code",
   "execution_count": 1,
   "id": "c8c5004c-b1ba-4606-a426-b3ad8d6be040",
   "metadata": {},
   "outputs": [],
   "source": [
    "import pandas as pd\n",
    "import numpy as np\n"
   ]
  },
  {
   "cell_type": "code",
   "execution_count": 2,
   "id": "222da03e-f8f4-4846-bb8d-ca6afc572d8c",
   "metadata": {},
   "outputs": [],
   "source": [
    "crop = pd.read_csv(\"crop_recommendation.csv\")"
   ]
  },
  {
   "cell_type": "code",
   "execution_count": 3,
   "id": "1098e8e5-9dc0-4b3d-8908-b3781c50374d",
   "metadata": {},
   "outputs": [
    {
     "name": "stdout",
     "output_type": "stream",
     "text": [
      "{'rice': 1, 'maize': 2, 'chickpea': 3, 'kidneybeans': 4, 'pigeonpeas': 5, 'mothbeans': 6, 'mungbean': 7, 'blackgram': 8, 'lentil': 9, 'pomegranate': 10, 'banana': 11, 'mango': 12, 'grapes': 13, 'watermelon': 14, 'muskmelon': 15, 'apple': 16, 'orange': 17, 'papaya': 18, 'coconut': 19, 'cotton': 20, 'jute': 21, 'coffee': 22}\n"
     ]
    }
   ],
   "source": [
    "\n",
    "crops = [\n",
    "    'rice', 'maize', 'chickpea', 'kidneybeans', 'pigeonpeas',\n",
    "    'mothbeans', 'mungbean', 'blackgram', 'lentil', 'pomegranate',\n",
    "    'banana', 'mango', 'grapes', 'watermelon', 'muskmelon', 'apple',\n",
    "    'orange', 'papaya', 'coconut', 'cotton', 'jute', 'coffee'\n",
    "]\n",
    "\n",
    "crop_dict = {crop: index + 1 for index, crop in enumerate(crops)}\n",
    "print(crop_dict)"
   ]
  },
  {
   "cell_type": "code",
   "execution_count": 4,
   "id": "77bfd57c-78d6-4465-962b-3f31e2f821c1",
   "metadata": {},
   "outputs": [],
   "source": [
    "\n",
    "crop['label']=crop['label'].map(crop_dict)\n",
    "x=crop.drop('label',axis = 1)\n",
    "y=crop['label']\n",
    "from sklearn.model_selection import train_test_split\n",
    "\n",
    "x_train, x_test, y_train, y_test = train_test_split(x, y, test_size=0.2, random_state=42)\n",
    "from sklearn.preprocessing import StandardScaler\n",
    "sc = StandardScaler()\n",
    "sc.fit(x_train)\n",
    "x_train = sc.transform(x_train)\n",
    "x_test=sc.transform(x_test)\n",
    "\n"
   ]
  },
  {
   "cell_type": "code",
   "execution_count": 23,
   "id": "c2415ec6-97df-4c3c-9351-6fae7fe03ddd",
   "metadata": {},
   "outputs": [],
   "source": [
    "from sklearn.svm import SVC\n",
    "from sklearn.neighbors import KNeighborsClassifier \n",
    "from sklearn.ensemble import RandomForestClassifier, GradientBoostingClassifier,VotingClassifier  \n",
    "from sklearn.metrics import accuracy_score \n",
    "from sklearn.naive_bayes import GaussianNB\n",
    "from sklearn.ensemble import AdaBoostClassifier, ExtraTreesClassifier, BaggingClassifier\n",
    "from sklearn.linear_model import LogisticRegression\n",
    "from xgboost import XGBClassifier\n",
    "from sklearn.preprocessing import LabelEncoder\n",
    "from sklearn.naive_bayes import GaussianNB\n",
    "\n",
    "\n",
    "# Encode labels if they are not already in the correct format\n",
    "le = LabelEncoder()\n",
    "y_train_encoded = le.fit_transform(y_train)\n",
    "y_test_encoded = le.transform(y_test)\n",
    "\n",
    "\n",
    "\n",
    "models = {\n",
    "    # 'SVC': SVC(probability=True),\n",
    "    # 'KNeighborsClassifier': KNeighborsClassifier(),\n",
    "    'RandomForestClassifier': RandomForestClassifier(),\n",
    "    # 'GradientBoostingClassifier': GradientBoostingClassifier(),\n",
    "    'XGBoost': XGBClassifier(eval_metric='mlogloss'),\n",
    "    # 'Bagging': BaggingClassifier(),\n",
    "    'GaussianNB':GaussianNB(),\n",
    "    'LogisticRegression': LogisticRegression(max_iter=1000),\n",
    "}"
   ]
  },
  {
   "cell_type": "code",
   "execution_count": 24,
   "id": "85820baa-1230-4505-aec6-64585b27edad",
   "metadata": {},
   "outputs": [
    {
     "name": "stdout",
     "output_type": "stream",
     "text": [
      "Voting Classifier Accuracy score: 0.9954545454545455\n"
     ]
    }
   ],
   "source": [
    "voting_clf = VotingClassifier(estimators=list(models.items()), voting='soft')\n",
    "\n",
    "# Fit the voting classifier\n",
    "voting_clf.fit(x_train, y_train_encoded)\n",
    "\n",
    "# Make predictions\n",
    "y_pred = voting_clf.predict(x_test)\n",
    "\n",
    "# Calculate accuracy\n",
    "score = accuracy_score(y_test_encoded, y_pred)\n",
    "print(f\"Voting Classifier Accuracy score: {score}\")"
   ]
  },
  {
   "cell_type": "code",
   "execution_count": null,
   "id": "6d018ec1-b4ea-4826-8a88-82f90083d253",
   "metadata": {},
   "outputs": [],
   "source": []
  }
 ],
 "metadata": {
  "kernelspec": {
   "display_name": "Python 3 (ipykernel)",
   "language": "python",
   "name": "python3"
  },
  "language_info": {
   "codemirror_mode": {
    "name": "ipython",
    "version": 3
   },
   "file_extension": ".py",
   "mimetype": "text/x-python",
   "name": "python",
   "nbconvert_exporter": "python",
   "pygments_lexer": "ipython3",
   "version": "3.13.0"
  }
 },
 "nbformat": 4,
 "nbformat_minor": 5
}
