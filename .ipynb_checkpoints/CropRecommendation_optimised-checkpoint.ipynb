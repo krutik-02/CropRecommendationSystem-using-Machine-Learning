{
 "cells": [
  {
   "cell_type": "code",
   "execution_count": 4,
   "id": "403e7ea2-e41d-4bc3-82ea-8d1490181658",
   "metadata": {},
   "outputs": [],
   "source": [
    "import pandas as pd\n",
    "import numpy as np"
   ]
  },
  {
   "cell_type": "code",
   "execution_count": 5,
   "id": "4a49e3e1-d8be-43e9-a530-be93de33e41c",
   "metadata": {},
   "outputs": [],
   "source": [
    "crop = pd.read_csv(\"crop_recommendation.csv\")"
   ]
  },
  {
   "cell_type": "code",
   "execution_count": 6,
   "id": "f1fe62d4-5945-4379-8e55-148118964635",
   "metadata": {},
   "outputs": [
    {
     "data": {
      "text/html": [
       "<div>\n",
       "<style scoped>\n",
       "    .dataframe tbody tr th:only-of-type {\n",
       "        vertical-align: middle;\n",
       "    }\n",
       "\n",
       "    .dataframe tbody tr th {\n",
       "        vertical-align: top;\n",
       "    }\n",
       "\n",
       "    .dataframe thead th {\n",
       "        text-align: right;\n",
       "    }\n",
       "</style>\n",
       "<table border=\"1\" class=\"dataframe\">\n",
       "  <thead>\n",
       "    <tr style=\"text-align: right;\">\n",
       "      <th></th>\n",
       "      <th>N</th>\n",
       "      <th>P</th>\n",
       "      <th>K</th>\n",
       "      <th>temperature</th>\n",
       "      <th>humidity</th>\n",
       "      <th>ph</th>\n",
       "      <th>rainfall</th>\n",
       "      <th>label</th>\n",
       "    </tr>\n",
       "  </thead>\n",
       "  <tbody>\n",
       "    <tr>\n",
       "      <th>0</th>\n",
       "      <td>90</td>\n",
       "      <td>42</td>\n",
       "      <td>43</td>\n",
       "      <td>20.879744</td>\n",
       "      <td>82.002744</td>\n",
       "      <td>6.502985</td>\n",
       "      <td>202.935536</td>\n",
       "      <td>rice</td>\n",
       "    </tr>\n",
       "    <tr>\n",
       "      <th>1</th>\n",
       "      <td>85</td>\n",
       "      <td>58</td>\n",
       "      <td>41</td>\n",
       "      <td>21.770462</td>\n",
       "      <td>80.319644</td>\n",
       "      <td>7.038096</td>\n",
       "      <td>226.655537</td>\n",
       "      <td>rice</td>\n",
       "    </tr>\n",
       "    <tr>\n",
       "      <th>2</th>\n",
       "      <td>60</td>\n",
       "      <td>55</td>\n",
       "      <td>44</td>\n",
       "      <td>23.004459</td>\n",
       "      <td>82.320763</td>\n",
       "      <td>7.840207</td>\n",
       "      <td>263.964248</td>\n",
       "      <td>rice</td>\n",
       "    </tr>\n",
       "    <tr>\n",
       "      <th>3</th>\n",
       "      <td>74</td>\n",
       "      <td>35</td>\n",
       "      <td>40</td>\n",
       "      <td>26.491096</td>\n",
       "      <td>80.158363</td>\n",
       "      <td>6.980401</td>\n",
       "      <td>242.864034</td>\n",
       "      <td>rice</td>\n",
       "    </tr>\n",
       "    <tr>\n",
       "      <th>4</th>\n",
       "      <td>78</td>\n",
       "      <td>42</td>\n",
       "      <td>42</td>\n",
       "      <td>20.130175</td>\n",
       "      <td>81.604873</td>\n",
       "      <td>7.628473</td>\n",
       "      <td>262.717340</td>\n",
       "      <td>rice</td>\n",
       "    </tr>\n",
       "  </tbody>\n",
       "</table>\n",
       "</div>"
      ],
      "text/plain": [
       "    N   P   K  temperature   humidity        ph    rainfall label\n",
       "0  90  42  43    20.879744  82.002744  6.502985  202.935536  rice\n",
       "1  85  58  41    21.770462  80.319644  7.038096  226.655537  rice\n",
       "2  60  55  44    23.004459  82.320763  7.840207  263.964248  rice\n",
       "3  74  35  40    26.491096  80.158363  6.980401  242.864034  rice\n",
       "4  78  42  42    20.130175  81.604873  7.628473  262.717340  rice"
      ]
     },
     "execution_count": 6,
     "metadata": {},
     "output_type": "execute_result"
    }
   ],
   "source": [
    "crop.head()"
   ]
  },
  {
   "cell_type": "code",
   "execution_count": 7,
   "id": "521ad998-5076-4215-a350-4204923554ce",
   "metadata": {},
   "outputs": [
    {
     "data": {
      "text/plain": [
       "N              0\n",
       "P              0\n",
       "K              0\n",
       "temperature    0\n",
       "humidity       0\n",
       "ph             0\n",
       "rainfall       0\n",
       "label          0\n",
       "dtype: int64"
      ]
     },
     "execution_count": 7,
     "metadata": {},
     "output_type": "execute_result"
    }
   ],
   "source": [
    "crop.shape\n",
    "crop.label.isnull().sum()\n",
    "crop.isnull().sum()\n"
   ]
  },
  {
   "cell_type": "code",
   "execution_count": 8,
   "id": "263aee39-f0b0-438a-93e2-48255338f575",
   "metadata": {},
   "outputs": [
    {
     "name": "stdout",
     "output_type": "stream",
     "text": [
      "{'rice': 1, 'maize': 2, 'chickpea': 3, 'kidneybeans': 4, 'pigeonpeas': 5, 'mothbeans': 6, 'mungbean': 7, 'blackgram': 8, 'lentil': 9, 'pomegranate': 10, 'banana': 11, 'mango': 12, 'grapes': 13, 'watermelon': 14, 'muskmelon': 15, 'apple': 16, 'orange': 17, 'papaya': 18, 'coconut': 19, 'cotton': 20, 'jute': 21, 'coffee': 22}\n"
     ]
    }
   ],
   "source": [
    "\n",
    "crops = [\n",
    "    'rice', 'maize', 'chickpea', 'kidneybeans', 'pigeonpeas',\n",
    "    'mothbeans', 'mungbean', 'blackgram', 'lentil', 'pomegranate',\n",
    "    'banana', 'mango', 'grapes', 'watermelon', 'muskmelon', 'apple',\n",
    "    'orange', 'papaya', 'coconut', 'cotton', 'jute', 'coffee'\n",
    "]\n",
    "\n",
    "crop_dict = {crop: index + 1 for index, crop in enumerate(crops)}\n",
    "print(crop_dict)"
   ]
  },
  {
   "cell_type": "code",
   "execution_count": 9,
   "id": "83422639-7e01-48dd-8eb2-d2671768ff39",
   "metadata": {},
   "outputs": [],
   "source": [
    "\n",
    "crop['label']=crop['label'].map(crop_dict)\n"
   ]
  },
  {
   "cell_type": "code",
   "execution_count": 10,
   "id": "8629dbfc-4262-4c43-a827-49d2b61b6bb9",
   "metadata": {},
   "outputs": [
    {
     "data": {
      "text/plain": [
       "np.int64(0)"
      ]
     },
     "execution_count": 10,
     "metadata": {},
     "output_type": "execute_result"
    }
   ],
   "source": [
    "crop.label.isnull().sum()"
   ]
  },
  {
   "cell_type": "code",
   "execution_count": 11,
   "id": "3883b7f1-3f20-45be-8458-0255540a95b5",
   "metadata": {},
   "outputs": [],
   "source": [
    "x=crop.drop('label',axis = 1)\n",
    "y=crop['label']"
   ]
  },
  {
   "cell_type": "code",
   "execution_count": 12,
   "id": "b7d17990-dd50-4bb7-9da6-02ce7cd06643",
   "metadata": {},
   "outputs": [
    {
     "data": {
      "text/html": [
       "<div>\n",
       "<style scoped>\n",
       "    .dataframe tbody tr th:only-of-type {\n",
       "        vertical-align: middle;\n",
       "    }\n",
       "\n",
       "    .dataframe tbody tr th {\n",
       "        vertical-align: top;\n",
       "    }\n",
       "\n",
       "    .dataframe thead th {\n",
       "        text-align: right;\n",
       "    }\n",
       "</style>\n",
       "<table border=\"1\" class=\"dataframe\">\n",
       "  <thead>\n",
       "    <tr style=\"text-align: right;\">\n",
       "      <th></th>\n",
       "      <th>N</th>\n",
       "      <th>P</th>\n",
       "      <th>K</th>\n",
       "      <th>temperature</th>\n",
       "      <th>humidity</th>\n",
       "      <th>ph</th>\n",
       "      <th>rainfall</th>\n",
       "    </tr>\n",
       "  </thead>\n",
       "  <tbody>\n",
       "    <tr>\n",
       "      <th>0</th>\n",
       "      <td>90</td>\n",
       "      <td>42</td>\n",
       "      <td>43</td>\n",
       "      <td>20.879744</td>\n",
       "      <td>82.002744</td>\n",
       "      <td>6.502985</td>\n",
       "      <td>202.935536</td>\n",
       "    </tr>\n",
       "    <tr>\n",
       "      <th>1</th>\n",
       "      <td>85</td>\n",
       "      <td>58</td>\n",
       "      <td>41</td>\n",
       "      <td>21.770462</td>\n",
       "      <td>80.319644</td>\n",
       "      <td>7.038096</td>\n",
       "      <td>226.655537</td>\n",
       "    </tr>\n",
       "    <tr>\n",
       "      <th>2</th>\n",
       "      <td>60</td>\n",
       "      <td>55</td>\n",
       "      <td>44</td>\n",
       "      <td>23.004459</td>\n",
       "      <td>82.320763</td>\n",
       "      <td>7.840207</td>\n",
       "      <td>263.964248</td>\n",
       "    </tr>\n",
       "    <tr>\n",
       "      <th>3</th>\n",
       "      <td>74</td>\n",
       "      <td>35</td>\n",
       "      <td>40</td>\n",
       "      <td>26.491096</td>\n",
       "      <td>80.158363</td>\n",
       "      <td>6.980401</td>\n",
       "      <td>242.864034</td>\n",
       "    </tr>\n",
       "    <tr>\n",
       "      <th>4</th>\n",
       "      <td>78</td>\n",
       "      <td>42</td>\n",
       "      <td>42</td>\n",
       "      <td>20.130175</td>\n",
       "      <td>81.604873</td>\n",
       "      <td>7.628473</td>\n",
       "      <td>262.717340</td>\n",
       "    </tr>\n",
       "  </tbody>\n",
       "</table>\n",
       "</div>"
      ],
      "text/plain": [
       "    N   P   K  temperature   humidity        ph    rainfall\n",
       "0  90  42  43    20.879744  82.002744  6.502985  202.935536\n",
       "1  85  58  41    21.770462  80.319644  7.038096  226.655537\n",
       "2  60  55  44    23.004459  82.320763  7.840207  263.964248\n",
       "3  74  35  40    26.491096  80.158363  6.980401  242.864034\n",
       "4  78  42  42    20.130175  81.604873  7.628473  262.717340"
      ]
     },
     "execution_count": 12,
     "metadata": {},
     "output_type": "execute_result"
    }
   ],
   "source": [
    "x.head()\n"
   ]
  },
  {
   "cell_type": "code",
   "execution_count": 13,
   "id": "50478609-141f-4d4b-a7a1-b668eed5a11b",
   "metadata": {},
   "outputs": [
    {
     "data": {
      "text/plain": [
       "0    1\n",
       "1    1\n",
       "2    1\n",
       "3    1\n",
       "4    1\n",
       "Name: label, dtype: int64"
      ]
     },
     "execution_count": 13,
     "metadata": {},
     "output_type": "execute_result"
    }
   ],
   "source": [
    "y.head()"
   ]
  },
  {
   "cell_type": "code",
   "execution_count": 14,
   "id": "8629a437-7352-4115-ba3c-0b561c520e36",
   "metadata": {},
   "outputs": [],
   "source": [
    "from sklearn.model_selection import train_test_split\n",
    "\n",
    "x_train, x_test, y_train, y_test = train_test_split(x, y, test_size=0.2, random_state=42)"
   ]
  },
  {
   "cell_type": "code",
   "execution_count": 15,
   "id": "b34751c9-2359-4965-bc19-4c0d699ddb0e",
   "metadata": {},
   "outputs": [
    {
     "name": "stdout",
     "output_type": "stream",
     "text": [
      "x_train shape: (1760, 7)\n",
      "x_test shape: (440, 7)\n",
      "y_train shape: (1760,)\n",
      "y_test shape: (440,)\n"
     ]
    }
   ],
   "source": [
    "print(\"x_train shape:\", x_train.shape)\n",
    "print(\"x_test shape:\", x_test.shape)\n",
    "print(\"y_train shape:\", y_train.shape)\n",
    "print(\"y_test shape:\", y_test.shape)"
   ]
  },
  {
   "cell_type": "code",
   "execution_count": 16,
   "id": "6d2c4467-90a4-4a98-adc8-10616a7f36eb",
   "metadata": {},
   "outputs": [],
   "source": [
    "from sklearn.preprocessing import MinMaxScaler\n",
    "mx = MinMaxScaler()\n",
    "x_train =mx.fit_transform(x_train)\n",
    "x_test = mx.transform(x_test)"
   ]
  },
  {
   "cell_type": "code",
   "execution_count": 17,
   "id": "63db7e69-cee9-428b-8e0d-425069721d00",
   "metadata": {},
   "outputs": [],
   "source": [
    "from sklearn.preprocessing import StandardScaler\n",
    "sc = StandardScaler()\n",
    "sc.fit(x_train)\n",
    "x_train = sc.transform(x_train)\n",
    "x_test=sc.transform(x_test)"
   ]
  },
  {
   "cell_type": "code",
   "execution_count": 18,
   "id": "fd339813-4c12-448e-b5ae-c137d3d4fb6c",
   "metadata": {},
   "outputs": [],
   "source": [
    "from sklearn.svm import SVC\n",
    "from sklearn.neighbors import KNeighborsClassifier \n",
    "from sklearn.ensemble import RandomForestClassifier, GradientBoostingClassifier,VotingClassifier  \n",
    "from sklearn.metrics import accuracy_score \n",
    "from sklearn.naive_bayes import GaussianNB\n",
    "from sklearn.ensemble import AdaBoostClassifier, ExtraTreesClassifier, BaggingClassifier\n",
    "from sklearn.linear_model import LogisticRegression\n",
    "from xgboost import XGBClassifier\n",
    "from sklearn.preprocessing import LabelEncoder\n",
    "from sklearn.naive_bayes import GaussianNB"
   ]
  },
  {
   "cell_type": "code",
   "execution_count": 19,
   "id": "6a1b26b3-bd50-4633-b51d-23f84d55407f",
   "metadata": {},
   "outputs": [],
   "source": [
    "# Encode labels if they are not already in the correct format\n",
    "le = LabelEncoder()\n",
    "y_train_encoded = le.fit_transform(y_train)\n",
    "y_test_encoded = le.transform(y_test)"
   ]
  },
  {
   "cell_type": "code",
   "execution_count": 20,
   "id": "02ba7385-b991-4bb7-a547-e0df4d4c0dfa",
   "metadata": {},
   "outputs": [],
   "source": [
    "models = {\n",
    "    'SVC': SVC(probability=True),\n",
    "    'KNeighborsClassifier': KNeighborsClassifier(),\n",
    "    'RandomForestClassifier': RandomForestClassifier(),\n",
    "    'GradientBoostingClassifier': GradientBoostingClassifier(),\n",
    "    'XGBoost': XGBClassifier(eval_metric='mlogloss'),\n",
    "    'Bagging': BaggingClassifier(),\n",
    "    'GaussianNB':GaussianNB(),\n",
    "}"
   ]
  },
  {
   "cell_type": "code",
   "execution_count": 21,
   "id": "40e80c0e-dcce-4ed9-9ff2-8026f3c25b45",
   "metadata": {},
   "outputs": [
    {
     "name": "stdout",
     "output_type": "stream",
     "text": [
      "Voting Classifier Accuracy score: 0.9931818181818182\n"
     ]
    }
   ],
   "source": [
    "voting_clf = VotingClassifier(estimators=list(models.items()), voting='soft')\n",
    "\n",
    "# Fit the voting classifier\n",
    "voting_clf.fit(x_train, y_train_encoded)\n",
    "\n",
    "# Make predictions\n",
    "y_pred = voting_clf.predict(x_test)\n",
    "\n",
    "# Calculate accuracy\n",
    "score = accuracy_score(y_test_encoded, y_pred)\n",
    "print(f\"Voting Classifier Accuracy score: {score}\")"
   ]
  },
  {
   "cell_type": "code",
   "execution_count": 22,
   "id": "18683469-3f2c-4a4b-9ce8-df71999db528",
   "metadata": {},
   "outputs": [],
   "source": [
    "import pickle \n",
    "pickle.dump(voting_clf,open('model.pkl','wb'))\n",
    "pickle.dump(mx,open('minmaxscalar.pkl','wb'))\n",
    "pickle.dump(sc,open('standardscalar.pkl','wb'))"
   ]
  },
  {
   "cell_type": "code",
   "execution_count": 23,
   "id": "8a1b1f1e-00e1-4004-895c-674a04368ca1",
   "metadata": {},
   "outputs": [],
   "source": [
    "import joblib  # For saving and loading models\n",
    "\n",
    "# Save the model after training\n",
    "joblib.dump(voting_clf, \"voting_classifier_model.pkl\")\n",
    "joblib.dump(sc, \"scaler.pkl\")  # Save the scaler too\n"
   ]
  },
  {
   "cell_type": "code",
   "execution_count": null,
   "id": "8730d222-6fce-440e-8fb1-06c179702d49",
   "metadata": {},
   "outputs": [],
   "source": [
    "def  recommendation(N, P, K, temperature, humidity, ph, rainfall):\n",
    "    # Load the saved model and scaler\n",
    "    voting_clf = joblib.load(\"voting_classifier_model.pkl\")\n",
    "    sc = joblib.load(\"scaler.pkl\")\n",
    "    \n",
    "    # Prepare input features\n",
    "    features = np.array([[N, P, K, temperature, humidity, ph, rainfall]])\n",
    "    sc_mx_features = sc.transform(features)\n",
    "    \n",
    "    # Make prediction\n",
    "    prediction = voting_clf.predict(sc_mx_features)\n",
    "    return prediction[0"
   ]
  },
  {
   "cell_type": "code",
   "execution_count": 26,
   "id": "1fe910eb-fadb-4a31-8743-f9a4a4b78765",
   "metadata": {},
   "outputs": [
    {
     "name": "stdout",
     "output_type": "stream",
     "text": [
      "muskmelon is the best crop to be cultivated\n"
     ]
    }
   ],
   "source": [
    "\n",
    "N = 30\n",
    "P = 20\n",
    "K = 20\n",
    "temperature = 50.0\n",
    "humidity = 20.0\n",
    "ph = 7.0\n",
    "rainfall =200.0\n",
    "predict = recommendation(N, P, K, temperature, humidity, ph, rainfall)\n",
    "crop_dict = {\n",
    "    1: 'rice',\n",
    "    2: 'maize',\n",
    "    3: 'chickpea',\n",
    "    4: 'kidneybeans',\n",
    "    5: 'pigeonpeas',\n",
    "    6: 'mothbeans',\n",
    "    7: 'mungbean',\n",
    "    8: 'blackgram',\n",
    "    9: 'lentil',\n",
    "    10: 'pomegranate',\n",
    "    11: 'banana',\n",
    "    12: 'mango',\n",
    "    13: 'grapes',\n",
    "    14: 'watermelon',\n",
    "    15: 'muskmelon',\n",
    "    16: 'apple',\n",
    "    17: 'orange',\n",
    "    18: 'papaya',\n",
    "    19: 'coconut',\n",
    "    20: 'cotton',\n",
    "    21: 'jute',\n",
    "    22: 'coffee'\n",
    "}\n",
    "\n",
    "if predict in crop_dict:\n",
    "    crop = crop_dict[predict]\n",
    "    print(f\"{crop} is the best crop to be cultivated\")\n",
    "else:\n",
    "    print(\"Sorry, we can't predict.\")"
   ]
  },
  {
   "cell_type": "code",
   "execution_count": null,
   "id": "a92c77d6-1bb5-4bac-8027-3c37ac1909ce",
   "metadata": {},
   "outputs": [],
   "source": []
  },
  {
   "cell_type": "code",
   "execution_count": null,
   "id": "cf57b6c8-9fd7-4a76-8347-82fca88ca266",
   "metadata": {},
   "outputs": [],
   "source": []
  }
 ],
 "metadata": {
  "kernelspec": {
   "display_name": "Python 3 (ipykernel)",
   "language": "python",
   "name": "python3"
  },
  "language_info": {
   "codemirror_mode": {
    "name": "ipython",
    "version": 3
   },
   "file_extension": ".py",
   "mimetype": "text/x-python",
   "name": "python",
   "nbconvert_exporter": "python",
   "pygments_lexer": "ipython3",
   "version": "3.13.0"
  }
 },
 "nbformat": 4,
 "nbformat_minor": 5
}
