{
 "cells": [
  {
   "cell_type": "code",
   "execution_count": 13,
   "id": "c4688a19-3c97-4850-8326-8616f863d0c1",
   "metadata": {},
   "outputs": [
    {
     "name": "stdout",
     "output_type": "stream",
     "text": [
      "{'rice': 1, 'maize': 2, 'chickpea': 3, 'kidneybeans': 4, 'pigeonpeas': 5, 'mothbeans': 6, 'mungbean': 7, 'blackgram': 8, 'lentil': 9, 'pomegranate': 10, 'banana': 11, 'mango': 12, 'grapes': 13, 'watermelon': 14, 'muskmelon': 15, 'apple': 16, 'orange': 17, 'papaya': 18, 'coconut': 19, 'cotton': 20, 'jute': 21, 'coffee': 22}\n"
     ]
    }
   ],
   "source": [
    "import pandas as pd\n",
    "import numpy as np\n",
    "crop = pd.read_csv(\"crop_recommendation.csv\")\n",
    "\n",
    "crops = [\n",
    "    'rice', 'maize', 'chickpea', 'kidneybeans', 'pigeonpeas',\n",
    "    'mothbeans', 'mungbean', 'blackgram', 'lentil', 'pomegranate',\n",
    "    'banana', 'mango', 'grapes', 'watermelon', 'muskmelon', 'apple',\n",
    "    'orange', 'papaya', 'coconut', 'cotton', 'jute', 'coffee'\n",
    "]\n",
    "\n",
    "crop_dict = {crop: index + 1 for index, crop in enumerate(crops)}\n",
    "print(crop_dict)"
   ]
  },
  {
   "cell_type": "code",
   "execution_count": 14,
   "id": "661e080a-b7fd-4458-bfbf-f7d9e8bd8e5e",
   "metadata": {},
   "outputs": [],
   "source": [
    "\n",
    "crop['label']=crop['label'].map(crop_dict)\n",
    "x=crop.drop('label',axis = 1)\n",
    "y=crop['label']\n",
    "from sklearn.model_selection import train_test_split\n",
    "\n",
    "x_train, x_test, y_train, y_test = train_test_split(x, y, test_size=0.2, random_state=42)\n",
    "from sklearn.preprocessing import StandardScaler\n",
    "sc = StandardScaler()\n",
    "sc.fit(x_train)\n",
    "x_train = sc.transform(x_train)\n",
    "x_test=sc.transform(x_test)\n",
    "\n"
   ]
  },
  {
   "cell_type": "code",
   "execution_count": 15,
   "id": "3aead2e8-6388-4dc2-a52e-e91325e77710",
   "metadata": {},
   "outputs": [],
   "source": [
    "from sklearn.svm import SVC\n",
    "from sklearn.neighbors import KNeighborsClassifier \n",
    "from sklearn.ensemble import RandomForestClassifier, GradientBoostingClassifier,VotingClassifier  \n",
    "from sklearn.metrics import accuracy_score \n",
    "from sklearn.naive_bayes import GaussianNB\n",
    "from sklearn.ensemble import AdaBoostClassifier, ExtraTreesClassifier, BaggingClassifier\n",
    "from sklearn.linear_model import LogisticRegression\n",
    "from xgboost import XGBClassifier\n",
    "from sklearn.preprocessing import LabelEncoder\n",
    "from sklearn.naive_bayes import GaussianNB\n",
    "\n",
    "\n",
    "\n",
    "# Encode labels if they are not already in the correct format\n",
    "le = LabelEncoder()\n",
    "y_train_encoded = le.fit_transform(y_train)\n",
    "y_test_encoded = le.transform(y_test)\n",
    "\n",
    "\n",
    "\n",
    "models = {\n",
    "    # 'SVC': SVC(probability=True),\n",
    "    # 'KNeighborsClassifier': KNeighborsClassifier(),\n",
    "    'RandomForestClassifier': RandomForestClassifier(),\n",
    "    # 'GradientBoostingClassifier': GradientBoostingClassifier(),\n",
    "    'XGBoost': XGBClassifier(eval_metric='mlogloss'),\n",
    "    # 'Bagging': BaggingClassifier(),\n",
    "    'GaussianNB':GaussianNB(),\n",
    "    'LogisticRegression': LogisticRegression(max_iter=1000),\n",
    "}"
   ]
  },
  {
   "cell_type": "code",
   "execution_count": 16,
   "id": "e1969a64-2086-4227-a67f-e5a9114d04b4",
   "metadata": {},
   "outputs": [
    {
     "name": "stdout",
     "output_type": "stream",
     "text": [
      "Voting Classifier Accuracy score: 0.9954545454545455\n"
     ]
    }
   ],
   "source": [
    "voting_clf = VotingClassifier(estimators=list(models.items()), voting='soft')\n",
    "\n",
    "# Fit the voting classifier\n",
    "voting_clf.fit(x_train, y_train_encoded)\n",
    "\n",
    "# Make predictions\n",
    "y_pred = voting_clf.predict(x_test)\n",
    "\n",
    "# Calculate accuracy\n",
    "score = accuracy_score(y_test_encoded, y_pred)\n",
    "print(f\"Voting Classifier Accuracy score: {score}\")"
   ]
  },
  {
   "cell_type": "code",
   "execution_count": 5,
   "id": "e126b697-41fe-402b-b9d2-f5e80b09cc86",
   "metadata": {},
   "outputs": [],
   "source": [
    "from sklearn.metrics import accuracy_score, f1_score, recall_score, precision_score, classification_report\n",
    "from sklearn.model_selection import train_test_split, cross_val_score"
   ]
  },
  {
   "cell_type": "code",
   "execution_count": 6,
   "id": "bc3f0445-7224-4ab5-b990-dbddc6d7a7e2",
   "metadata": {},
   "outputs": [
    {
     "name": "stdout",
     "output_type": "stream",
     "text": [
      "F1 Score: 0.99\n"
     ]
    }
   ],
   "source": [
    "from sklearn.metrics import f1_score\n",
    "\n",
    "# Assuming y_test and y_pred are defined\n",
    "f1 = f1_score(y_test_encoded, y_pred, average='weighted')  # Use 'macro' or 'micro' as needed\n",
    "print(f\"F1 Score: {f1:.2f}\")"
   ]
  },
  {
   "cell_type": "code",
   "execution_count": 7,
   "id": "26598495-2e1a-4beb-bd19-12dca87bd658",
   "metadata": {},
   "outputs": [
    {
     "name": "stdout",
     "output_type": "stream",
     "text": [
      "Recall: 0.99\n"
     ]
    }
   ],
   "source": [
    "from sklearn.metrics import recall_score\n",
    "\n",
    "# Assuming y_test and y_pred are defined\n",
    "recall = recall_score(y_test_encoded, y_pred, average='weighted')  # Use 'macro' or 'micro' as needed\n",
    "print(f\"Recall: {recall:.2f}\")"
   ]
  },
  {
   "cell_type": "code",
   "execution_count": 8,
   "id": "67c553a4-3eb6-464e-b0df-74af05bf870e",
   "metadata": {},
   "outputs": [
    {
     "name": "stdout",
     "output_type": "stream",
     "text": [
      "Precision: 0.99\n"
     ]
    }
   ],
   "source": [
    "from sklearn.metrics import precision_score\n",
    "\n",
    "# Assuming y_test and y_pred are defined\n",
    "precision = precision_score(y_test_encoded, y_pred, average='weighted')  # Use 'macro' or 'micro' as needed\n",
    "print(f\"Precision: {precision:.2f}\")"
   ]
  },
  {
   "cell_type": "code",
   "execution_count": 9,
   "id": "d70c839c-cc4e-4ce3-b36d-0eb3d6392454",
   "metadata": {},
   "outputs": [
    {
     "name": "stdout",
     "output_type": "stream",
     "text": [
      "Cross-validation scores: [0.98579545 0.99431818 0.99715909 1.         0.99715909]\n",
      "Mean cross-validation score: 0.9948863636363636\n"
     ]
    }
   ],
   "source": [
    "from sklearn.model_selection import cross_val_score\n",
    "\n",
    "# Assuming you have already defined your VotingClassifier as voting_clf\n",
    "# and your training data as x_train and y_train_encoded\n",
    "\n",
    "# Perform cross-validation\n",
    "cv_scores = cross_val_score(voting_clf, x_train, y_train_encoded, cv=5)  # You can change cv to the number of folds you want\n",
    "\n",
    "# Print the cross-validation scores and the mean score\n",
    "print(f\"Cross-validation scores: {cv_scores}\")\n",
    "print(f\"Mean cross-validation score: {cv_scores.mean()}\")"
   ]
  },
  {
   "cell_type": "code",
   "execution_count": 10,
   "id": "3f34a54e-f34f-4df7-a96f-270b815c84d6",
   "metadata": {},
   "outputs": [],
   "source": [
    "accuracy = accuracy_score(y_test_encoded, y_pred)\n",
    "f1 = f1_score(y_test_encoded, y_pred, average='weighted')  # Use 'macro' or 'micro' as needed\n",
    "recall = recall_score(y_test_encoded, y_pred, average='weighted')\n",
    "precision = precision_score(y_test_encoded, y_pred, average='weighted')\n",
    "\n",
    "# Perform cross-validation\n",
    "cv_scores = cross_val_score(voting_clf, x_train, y_train_encoded, cv=5)\n",
    "mean_cv_score = cv_scores.mean()"
   ]
  },
  {
   "cell_type": "code",
   "execution_count": 11,
   "id": "8955ea68-24b5-433f-9e27-0ec09c824055",
   "metadata": {},
   "outputs": [
    {
     "data": {
      "image/png": "[encoded data removed]",
      "text/plain": [
       "<Figure size 1000x600 with 1 Axes>"
      ]
     },
     "metadata": {},
     "output_type": "display_data"
    }
   ],
   "source": [
    "metrics = ['Accuracy', 'F1 Score', 'Recall', 'Precision', 'Cross-Validation']\n",
    "values = [accuracy, f1, recall, precision, mean_cv_score]\n",
    "import matplotlib.pyplot as plt\n",
    "# Create a bar plot\n",
    "plt.figure(figsize=(10, 6))\n",
    "plt.bar(metrics, values, color=['blue', 'orange', 'green', 'red', 'purple'])\n",
    "plt.ylim(0, 1)  # Set y-axis limits to [0, 1] for better visualization\n",
    "plt.title('Model Performance Comparison')\n",
    "plt.ylabel('Score')\n",
    "plt.xlabel('Metrics')\n",
    "plt.grid(axis='y')\n",
    "\n",
    "# Show the plot\n",
    "plt.show()"
   ]
  },
  {
   "cell_type": "code",
   "execution_count": 12,
   "id": "1cdadcb3-e307-4156-a28f-b75fe1ac25ae",
   "metadata": {},
   "outputs": [
    {
     "name": "stdout",
     "output_type": "stream",
     "text": [
      "['Solarize_Light2', '_classic_test_patch', '_mpl-gallery', '_mpl-gallery-nogrid', 'bmh', 'classic', 'dark_background', 'fast', 'fivethirtyeight', 'ggplot', 'grayscale', 'seaborn-v0_8', 'seaborn-v0_8-bright', 'seaborn-v0_8-colorblind', 'seaborn-v0_8-dark', 'seaborn-v0_8-dark-palette', 'seaborn-v0_8-darkgrid', 'seaborn-v0_8-deep', 'seaborn-v0_8-muted', 'seaborn-v0_8-notebook', 'seaborn-v0_8-paper', 'seaborn-v0_8-pastel', 'seaborn-v0_8-poster', 'seaborn-v0_8-talk', 'seaborn-v0_8-ticks', 'seaborn-v0_8-white', 'seaborn-v0_8-whitegrid', 'tableau-colorblind10']\n"
     ]
    }
   ],
   "source": [
    "import matplotlib.pyplot as plt\n",
    "print(plt.style.available)"
   ]
  },
  {
   "cell_type": "code",
   "execution_count": 31,
   "id": "c490d9dc-1514-4330-abf5-6bed7d6b7632",
   "metadata": {},
   "outputs": [
    {
     "data": {
      "image/png": "[encoded data removed]",
      "text/plain": [
       "<Figure size 1000x600 with 1 Axes>"
      ]
     },
     "metadata": {},
     "output_type": "display_data"
    }
   ],
   "source": [
    "import numpy as np\n",
    "import matplotlib.pyplot as plt\n",
    "from matplotlib.ticker import FuncFormatter\n",
    "from sklearn.metrics import f1_score, recall_score, precision_score, accuracy_score\n",
    "from sklearn.model_selection import cross_val_score\n",
    "\n",
    "# Assuming you have already defined your VotingClassifier as voting_clf\n",
    "# and your training and test data as x_train, y_train_encoded, x_test, y_test_encoded\n",
    "\n",
    "# Make predictions\n",
    "y_pred = voting_clf.predict(x_test)\n",
    "\n",
    "# Calculate metrics\n",
    "accuracy = accuracy_score(y_test_encoded, y_pred)\n",
    "f1 = f1_score(y_test_encoded, y_pred, average='weighted')  # Use 'macro' or 'micro' as needed\n",
    "recall = recall_score(y_test_encoded, y_pred, average='weighted')\n",
    "precision = precision_score(y_test_encoded, y_pred, average='weighted')\n",
    "\n",
    "# Perform cross-validation\n",
    "cv_scores = cross_val_score(voting_clf, x_train, y_train_encoded, cv=5)\n",
    "mean_cv_score = cv_scores.mean()\n",
    "\n",
    "# Prepare data for plotting\n",
    "metrics = ['Accuracy', 'F1 Score', 'Recall', 'Precision', 'Cross-Validation']\n",
    "values = [accuracy, f1, recall, precision, mean_cv_score]\n",
    "\n",
    "# Set the style\n",
    "plt.style.use('ggplot')  # Change the style here\n",
    "\n",
    "# Create a bar plot\n",
    "plt.figure(figsize=(10, 6))\n",
    "bars = plt.bar(metrics, values, color=['#1f77b4', '#ff7f0e', '#2ca02c', '#d62728', '#9467bd'])\n",
    "plt.ylim(0, 1)  # Set y-axis limits to [0, 1] for better visualization\n",
    "\n",
    "# Adjust the title position\n",
    "plt.title('Model Performance Comparison', fontsize=16, pad=20)  # Increase pad to move title up\n",
    "plt.ylabel('Score (%)', fontsize=14)\n",
    "plt.xlabel('Metrics', fontsize=14)\n",
    "plt.grid(axis='y')\n",
    "\n",
    "# Format y-axis as percentage\n",
    "def to_percent(y, position):\n",
    "    return f'{y * 100:.0f}%'\n",
    "\n",
    "formatter = FuncFormatter(to_percent)\n",
    "plt.gca().yaxis.set_major_formatter(formatter)\n",
    "\n",
    "# Add value labels on top of the bars\n",
    "for bar in bars:\n",
    "    yval = bar.get_height()\n",
    "    plt.text(bar.get_x() + bar.get_width()/2, yval, f\"{yval * 100:.2f}%\", ha='center', va='bottom', fontsize=12)\n",
    "\n",
    "# Show the plot\n",
    "plt.show()"
   ]
  },
  {
   "cell_type": "code",
   "execution_count": null,
   "id": "3284f5cf-72e4-4ea6-a6bb-9cf53061ae59",
   "metadata": {},
   "outputs": [],
   "source": []
  }
 ],
 "metadata": {
  "kernelspec": {
   "display_name": "Python 3 (ipykernel)",
   "language": "python",
   "name": "python3"
  },
  "language_info": {
   "codemirror_mode": {
    "name": "ipython",
    "version": 3
   },
   "file_extension": ".py",
   "mimetype": "text/x-python",
   "name": "python",
   "nbconvert_exporter": "python",
   "pygments_lexer": "ipython3",
   "version": "3.13.0"
  }
 },
 "nbformat": 4,
 "nbformat_minor": 5
}
